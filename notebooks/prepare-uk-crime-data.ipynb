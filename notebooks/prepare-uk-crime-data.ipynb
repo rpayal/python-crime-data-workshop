{
 "cells": [
  {
   "cell_type": "markdown",
   "metadata": {},
   "source": [
    "# Prepare Data for Workshop\n",
    "\n",
    "Workshop: https://github.com/IBMDeveloperUK/geopandas-workshop\n",
    "\n",
    "Data downloaded from https://data.police.uk/data/ for Metropolitan Police Service into `/data/crime_data` folder, unzipped and all files moved to one folder `/data/crime_data/by_year`."
   ]
  },
  {
   "cell_type": "code",
   "execution_count": 1,
   "metadata": {},
   "outputs": [],
   "source": [
    "%matplotlib inline\n",
    "import numpy as np\n",
    "import pandas as pd\n",
    "import geopandas as gpd\n",
    "import zipfile"
   ]
  },
  {
   "cell_type": "markdown",
   "metadata": {},
   "source": [
    "## Convert crime data to easier readable format\n",
    "\n",
    "These files are uploaded to https://github.com/IBMDeveloperUK/geopandas-workshop/tree/master/data"
   ]
  },
  {
   "cell_type": "code",
   "execution_count": null,
   "metadata": {},
   "outputs": [],
   "source": [
    "years = ['2017','2018']\n",
    "months = ['01','02','03','04','05','06','07','08','09','10','11','12']\n",
    "\n",
    "for year in years:\n",
    "    for month in months:\n",
    "        if month == '01':\n",
    "            df = pd.read_csv(\"data/crime_data/\"+year+\"-\"+month+\"-metropolitan-stop-and-search.csv\")\n",
    "        else:\n",
    "            df2 = pd.read_csv(\"data/crime_data/\"+year+\"-\"+month+\"-metropolitan-stop-and-search.csv\")\n",
    "            df = df.append(df2)\n",
    "    df = df.drop(columns=['Gender', 'Age range','Self-defined ethnicity',\n",
    "                                  'Officer-defined ethnicity','Removal of more than just outer clothing'])\n",
    "    df.to_csv(\"data/crime_data/by_year/\"+year+\"-metropolitan-stop-and-search.csv\")\n",
    "    zip_file = zipfile.ZipFile(\"data/crime_data/by_year/\"+year+\"-metropolitan-stop-and-search.zip\", 'w')\n",
    "    zip_file.write(\"data/crime_data/by_year/\"+year+\"-metropolitan-stop-and-search.csv\", compress_type=zipfile.ZIP_DEFLATED)\n",
    "    zip_file.close()\n",
    "\n",
    "!rm data/crime_data/by_year/*.csv"
   ]
  },
  {
   "cell_type": "code",
   "execution_count": null,
   "metadata": {},
   "outputs": [],
   "source": [
    "years = ['2017','2018']\n",
    "months = ['01','02','03','04','05','06']\n",
    "\n",
    "for year in years:\n",
    "    for month in months:\n",
    "        if month == '01':\n",
    "            df = pd.read_csv(\"data/crime_data/\"+year+\"-\"+month+\"-metropolitan-street.csv\")\n",
    "        else:\n",
    "            df2 = pd.read_csv(\"data/crime_data/\"+year+\"-\"+month+\"-metropolitan-street.csv\")\n",
    "            df = df.append(df2)\n",
    "    df = df.drop(columns=['Reported by','Falls within','LSOA name'])\n",
    "    df.to_csv(\"data/crime_data/by_year/\"+year+\"-1-metropolitan-street.csv\")\n",
    "    zip_file = zipfile.ZipFile(\"data/crime_data/by_year/\"+year+\"-1-metropolitan-street.zip\", 'w')\n",
    "    zip_file.write(\"data/crime_data/by_year/\"+year+\"-1-metropolitan-street.csv\", compress_type=zipfile.ZIP_DEFLATED)\n",
    "    zip_file.close()\n",
    "\n",
    "!rm data/crime_data/by_year/*.csv"
   ]
  },
  {
   "cell_type": "code",
   "execution_count": null,
   "metadata": {},
   "outputs": [],
   "source": [
    "years = ['2017','2018']\n",
    "months = ['07','08','09','10','11','12']\n",
    "\n",
    "for year in years:\n",
    "    for month in months:\n",
    "        if month == '07':\n",
    "            df = pd.read_csv(\"data/crime_data/\"+year+\"-\"+month+\"-metropolitan-street.csv\")\n",
    "        else:\n",
    "            df2 = pd.read_csv(\"data/crime_data/\"+year+\"-\"+month+\"-metropolitan-street.csv\")\n",
    "            df = df.append(df2)\n",
    "    df = df.drop(columns=['Reported by','Falls within','LSOA name'])\n",
    "    df.to_csv(\"data/crime_data/by_year/\"+year+\"-2-metropolitan-street.csv\")\n",
    "    zip_file = zipfile.ZipFile(\"data/crime_data/by_year/\"+year+\"-2-metropolitan-street.zip\", 'w')\n",
    "    zip_file.write(\"data/crime_data/by_year/\"+year+\"-2-metropolitan-street.csv\", compress_type=zipfile.ZIP_DEFLATED)\n",
    "    zip_file.close()\n",
    "\n",
    "!rm data/crime_data/by_year/*.csv"
   ]
  },
  {
   "cell_type": "markdown",
   "metadata": {},
   "source": [
    "## Clean up Borough shape files"
   ]
  },
  {
   "cell_type": "code",
   "execution_count": null,
   "metadata": {},
   "outputs": [],
   "source": [
    "# https://data.london.gov.uk/dataset/2011-boundary-files\n",
    "# Included are Output Area (OA), Lower Super Output Area (LSOA) and Middle-Level Super Output Area (MSOA) bounadries.\n",
    "#Each geography is provided at Extent of the Realm (BFE), Coastline (BFC) and Generalised Coastline (BGC).\n",
    "\n",
    "Boundaries = gpd.read_file(\"data/2011_london_boundaries/LSOA_2011_BFE_London/LSOA_2011_BFE_City_of_London.shp\")\n",
    "#Boundaries[]\n",
    "Boundaries.plot();"
   ]
  },
  {
   "cell_type": "code",
   "execution_count": null,
   "metadata": {},
   "outputs": [],
   "source": [
    "Boundaries = Boundaries.append(gpd.read_file(\"data/2011_london_boundaries/LSOA_2011_BFE_London/LSOA_2011_BFE_Westminster.shp\"))\n",
    "Boundaries.plot();"
   ]
  },
  {
   "cell_type": "code",
   "execution_count": null,
   "metadata": {},
   "outputs": [],
   "source": [
    "Boundaries = Boundaries.append(gpd.read_file(\"data/2011_london_boundaries/LSOA_2011_BFE_London/LSOA_2011_BFE_Camden.shp\"))\n",
    "Boundaries = Boundaries.append(gpd.read_file(\"data/2011_london_boundaries/LSOA_2011_BFE_London/LSOA_2011_BFE_Islington.shp\"))\n",
    "Boundaries = Boundaries.append(gpd.read_file(\"data/2011_london_boundaries/LSOA_2011_BFE_London/LSOA_2011_BFE_Hackney.shp\"))\n",
    "Boundaries = Boundaries.append(gpd.read_file(\"data/2011_london_boundaries/LSOA_2011_BFE_London/LSOA_2011_BFE_Tower_Hamlets.shp\"))\n",
    "Boundaries = Boundaries.append(gpd.read_file(\"data/2011_london_boundaries/LSOA_2011_BFE_London/LSOA_2011_BFE_Southwark.shp\"))\n",
    "Boundaries = Boundaries.append(gpd.read_file(\"data/2011_london_boundaries/LSOA_2011_BFE_London/LSOA_2011_BFE_Lambeth.shp\"))\n",
    "\n",
    "Boundaries.plot();"
   ]
  },
  {
   "cell_type": "code",
   "execution_count": null,
   "metadata": {},
   "outputs": [],
   "source": [
    "Boundaries.plot(column='POPDEN',cmap=\"Reds\",scheme='quantiles');"
   ]
  },
  {
   "cell_type": "code",
   "execution_count": null,
   "metadata": {},
   "outputs": [],
   "source": [
    "Boundaries.head()"
   ]
  },
  {
   "cell_type": "code",
   "execution_count": null,
   "metadata": {},
   "outputs": [],
   "source": [
    "Boundaries.to_file(\"data/boundaries.shp\")"
   ]
  },
  {
   "cell_type": "markdown",
   "metadata": {},
   "source": [
    "## Convert to lat/lon - work in progress"
   ]
  },
  {
   "cell_type": "code",
   "execution_count": null,
   "metadata": {},
   "outputs": [],
   "source": [
    "#https://pypi.org/project/OSGridConverter/\n",
    "#!pip install OSGridConverter\n",
    "\n",
    "#from OSGridConverter import grid2latlong\n",
    "\n",
    "#l=grid2latlong('TG 532151  181867')\n",
    "#(l.latitude,l.longitude)"
   ]
  },
  {
   "cell_type": "code",
   "execution_count": null,
   "metadata": {},
   "outputs": [],
   "source": [
    "#from OSGridConverter import latlong2grid\n",
    "#g=latlong2grid(51.993742,-0.975257, tag = ‘WGS84’)\n",
    "#str(g)"
   ]
  },
  {
   "cell_type": "markdown",
   "metadata": {},
   "source": [
    "## boroughs in lat/lon"
   ]
  },
  {
   "cell_type": "code",
   "execution_count": null,
   "metadata": {},
   "outputs": [],
   "source": [
    "#https://skgrange.github.io/www/data/london_boroughs.json\n",
    "\n",
    "boroughs2 = gpd.read_file(\"data/london_boroughs.json\")\n",
    "boroughs2.tail()"
   ]
  },
  {
   "cell_type": "code",
   "execution_count": null,
   "metadata": {},
   "outputs": [],
   "source": [
    "boroughs2.plot();"
   ]
  },
  {
   "cell_type": "code",
   "execution_count": null,
   "metadata": {},
   "outputs": [],
   "source": [
    "london = boroughs2.dissolve(by='inner_statistical',aggfunc='sum')\n",
    "london\n",
    "london.head()"
   ]
  },
  {
   "cell_type": "markdown",
   "metadata": {},
   "source": [
    "## Bounding box for extracting London OSM data"
   ]
  },
  {
   "cell_type": "code",
   "execution_count": null,
   "metadata": {},
   "outputs": [],
   "source": [
    "bounding_box = london.envelope\n"
   ]
  },
  {
   "cell_type": "code",
   "execution_count": null,
   "metadata": {},
   "outputs": [],
   "source": [
    "bb = gpd.GeoDataFrame(gpd.GeoSeries(bounding_box), columns=['geometry'])\n",
    "bb.head()"
   ]
  },
  {
   "cell_type": "code",
   "execution_count": null,
   "metadata": {},
   "outputs": [],
   "source": [
    "bb.plot();"
   ]
  },
  {
   "cell_type": "code",
   "execution_count": null,
   "metadata": {},
   "outputs": [],
   "source": [
    "london2 = london.drop([0, 0])\n",
    "london2.head()"
   ]
  },
  {
   "cell_type": "code",
   "execution_count": null,
   "metadata": {},
   "outputs": [],
   "source": [
    "london2.plot();"
   ]
  },
  {
   "cell_type": "code",
   "execution_count": null,
   "metadata": {},
   "outputs": [],
   "source": [
    "xmin, ymin, xmax, ymax = london2.total_bounds\n",
    "xmin, ymin, xmax, ymax"
   ]
  },
  {
   "cell_type": "markdown",
   "metadata": {},
   "source": [
    "## Open Street Map data"
   ]
  },
  {
   "cell_type": "code",
   "execution_count": null,
   "metadata": {},
   "outputs": [],
   "source": [
    "# http://download.geofabrik.de/europe/great-britain.html\n",
    "\n",
    "roads_all = gpd.read_file(\"data/england-latest-free/gis_osm_roads_free_1.shp\")\n",
    "roads_all.head()\n"
   ]
  },
  {
   "cell_type": "code",
   "execution_count": null,
   "metadata": {},
   "outputs": [],
   "source": [
    "roads = roads_all.cx[xmin:xmax, ymin:ymax]"
   ]
  },
  {
   "cell_type": "code",
   "execution_count": null,
   "metadata": {},
   "outputs": [],
   "source": [
    "roads.to_file(\"data/london_inner_roads.shp\")"
   ]
  },
  {
   "cell_type": "code",
   "execution_count": null,
   "metadata": {},
   "outputs": [],
   "source": [
    "pois_all = gpd.read_file(\"data/england-latest-free/gis_osm_pois_free_1.shp\")\n",
    "pois_all.head()\n"
   ]
  },
  {
   "cell_type": "code",
   "execution_count": null,
   "metadata": {},
   "outputs": [],
   "source": [
    "pois = pois_all.cx[xmin:xmax, ymin:ymax]"
   ]
  },
  {
   "cell_type": "code",
   "execution_count": null,
   "metadata": {},
   "outputs": [],
   "source": [
    "pois.to_file(\"data/london_inner_pois.shp\")"
   ]
  },
  {
   "cell_type": "code",
   "execution_count": null,
   "metadata": {},
   "outputs": [],
   "source": []
  }
 ],
 "metadata": {
  "kernelspec": {
   "display_name": "Python (geospatial)",
   "language": "python",
   "name": "geospatial"
  },
  "language_info": {
   "codemirror_mode": {
    "name": "ipython",
    "version": 3
   },
   "file_extension": ".py",
   "mimetype": "text/x-python",
   "name": "python",
   "nbconvert_exporter": "python",
   "pygments_lexer": "ipython3",
   "version": "3.5.6"
  }
 },
 "nbformat": 4,
 "nbformat_minor": 2
}
